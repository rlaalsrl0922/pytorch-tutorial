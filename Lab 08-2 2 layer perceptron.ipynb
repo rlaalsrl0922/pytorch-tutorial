{
 "cells": [
  {
   "cell_type": "code",
   "execution_count": 1,
   "id": "9b92f8fd",
   "metadata": {},
   "outputs": [],
   "source": [
    "import torch"
   ]
  },
  {
   "cell_type": "code",
   "execution_count": 2,
   "id": "b29f1d63",
   "metadata": {},
   "outputs": [],
   "source": [
    "device = 'cuda' if torch.cuda.is_available() else 'cpu'\n",
    "\n",
    "# for reproducibility\n",
    "torch.manual_seed(777)\n",
    "if device == 'cuda':\n",
    "    torch.cuda.manual_seed_all(777)"
   ]
  },
  {
   "cell_type": "markdown",
   "id": "b66f3cee",
   "metadata": {},
   "source": [
    "## Dataset"
   ]
  },
  {
   "cell_type": "code",
   "execution_count": 3,
   "id": "84bb81d7",
   "metadata": {},
   "outputs": [],
   "source": [
    "X = torch.FloatTensor([[0, 0], [0, 1], [1, 0], [1, 1]]).to(device)\n",
    "Y = torch.FloatTensor([[0], [1], [1], [0]]).to(device)"
   ]
  },
  {
   "cell_type": "markdown",
   "id": "10366d3a",
   "metadata": {},
   "source": [
    "## layer 1,2 (multi) , active function, model"
   ]
  },
  {
   "cell_type": "code",
   "execution_count": 4,
   "id": "64fb7457",
   "metadata": {},
   "outputs": [],
   "source": [
    "linear1 = torch.nn.Linear(2, 2, bias=True)\n",
    "linear2 = torch.nn.Linear(2, 1, bias=True)\n",
    "sigmoid = torch.nn.Sigmoid()\n",
    "model = torch.nn.Sequential(linear1, sigmoid, linear2, sigmoid).to(device)"
   ]
  },
  {
   "cell_type": "markdown",
   "id": "9fb27340",
   "metadata": {},
   "source": [
    "## Loss Function , optimizer"
   ]
  },
  {
   "cell_type": "code",
   "execution_count": 5,
   "id": "ae62bb8f",
   "metadata": {},
   "outputs": [],
   "source": [
    "criterion = torch.nn.BCELoss().to(device)\n",
    "optimizer = torch.optim.SGD(model.parameters(), lr=1)"
   ]
  },
  {
   "cell_type": "markdown",
   "id": "925cb203",
   "metadata": {},
   "source": [
    "## Function activate"
   ]
  },
  {
   "cell_type": "code",
   "execution_count": 7,
   "id": "e7c83520",
   "metadata": {},
   "outputs": [
    {
     "name": "stdout",
     "output_type": "stream",
     "text": [
      "0 0.0012343396665528417\n",
      "500 0.0011576821561902761\n",
      "1000 0.0010899071348831058\n",
      "1500 0.0010295654647052288\n",
      "2000 0.0009755371138453484\n",
      "2500 0.0009268366266041994\n",
      "3000 0.0008827920537441969\n",
      "3500 0.0008426570566371083\n",
      "4000 0.0008060433901846409\n",
      "4500 0.000772458384744823\n",
      "5000 0.0007415290456265211\n",
      "5500 0.0007129717851057649\n",
      "6000 0.0006865476607345045\n",
      "6500 0.0006619584746658802\n",
      "7000 0.000639084551949054\n",
      "7500 0.0006177321774885058\n",
      "8000 0.0005977072869427502\n",
      "8500 0.0005789650604128838\n",
      "9000 0.0005614159745164216\n",
      "9500 0.0005448065348900855\n",
      "10000 0.0005292111891321838\n"
     ]
    }
   ],
   "source": [
    "for step in range(10001):\n",
    "    optimizer.zero_grad()\n",
    "    hypothesis = model(X)\n",
    "\n",
    "    # cost/loss function\n",
    "    cost = criterion(hypothesis, Y)\n",
    "    cost.backward()\n",
    "    optimizer.step()\n",
    "\n",
    "    if step % 500 == 0:\n",
    "        print(step, cost.item())"
   ]
  },
  {
   "cell_type": "markdown",
   "id": "bc3405f2",
   "metadata": {},
   "source": [
    "## 예측, 결과값 비교"
   ]
  },
  {
   "cell_type": "code",
   "execution_count": 8,
   "id": "dfda7521",
   "metadata": {},
   "outputs": [
    {
     "name": "stdout",
     "output_type": "stream",
     "text": [
      "\n",
      "Hypothesis:  [[4.586927e-04]\n",
      " [9.995264e-01]\n",
      " [9.995264e-01]\n",
      " [7.100513e-04]] \n",
      "Correct:  [[0.]\n",
      " [1.]\n",
      " [1.]\n",
      " [0.]] \n",
      "Accuracy:  1.0\n"
     ]
    }
   ],
   "source": [
    "with torch.no_grad():\n",
    "    hypothesis = model(X)\n",
    "    predicted = (hypothesis > 0.5).float()\n",
    "    accuracy = (predicted == Y).float().mean()\n",
    "    print('\\nHypothesis: ', hypothesis.detach().cpu().numpy(), '\\nCorrect: ', predicted.detach().cpu().numpy(), '\\nAccuracy: ', accuracy.item())"
   ]
  }
 ],
 "metadata": {
  "kernelspec": {
   "display_name": "Python 3 (ipykernel)",
   "language": "python",
   "name": "python3"
  },
  "language_info": {
   "codemirror_mode": {
    "name": "ipython",
    "version": 3
   },
   "file_extension": ".py",
   "mimetype": "text/x-python",
   "name": "python",
   "nbconvert_exporter": "python",
   "pygments_lexer": "ipython3",
   "version": "3.9.12"
  }
 },
 "nbformat": 4,
 "nbformat_minor": 5
}
